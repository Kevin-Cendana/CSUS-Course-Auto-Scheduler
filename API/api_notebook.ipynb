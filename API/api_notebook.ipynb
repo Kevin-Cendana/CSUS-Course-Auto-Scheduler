{
 "cells": [
  {
   "cell_type": "code",
   "execution_count": 26,
   "metadata": {},
   "outputs": [],
   "source": [
    "from openai import OpenAI\n",
    "import os\n",
    "import json\n",
    "\n",
    "from IPython.display import display, Markdown"
   ]
  },
  {
   "cell_type": "code",
   "execution_count": 2,
   "metadata": {},
   "outputs": [],
   "source": [
    "api_key = os.getenv('OPENAI_API_KEY')\n",
    "if not api_key:\n",
    "    raise ValueError('Your API is not detected in your environment vars. Double check.')"
   ]
  },
  {
   "cell_type": "code",
   "execution_count": 6,
   "metadata": {},
   "outputs": [],
   "source": [
    "all_schedules = {}\n",
    "with open('../scraper/schedules/fall-2024.json') as f:\n",
    "    all_schedules = json.load(f)"
   ]
  },
  {
   "cell_type": "code",
   "execution_count": 75,
   "metadata": {},
   "outputs": [],
   "source": [
    "requirements = ['fin 135', 'econ 100A', 'math 45', 'econ 100B', 'pols 100', 'econ 141']\n",
    "requirements_timetables = {}\n",
    "\n",
    "for requirement in requirements:\n",
    "    major = requirement.split(' ')[0].upper()\n",
    "    \n",
    "    requirements_timetables[requirement] = all_schedules[major][requirement]"
   ]
  },
  {
   "cell_type": "code",
   "execution_count": 76,
   "metadata": {},
   "outputs": [],
   "source": [
    "number_of_requirements = len(requirements)"
   ]
  },
  {
   "cell_type": "code",
   "execution_count": 77,
   "metadata": {},
   "outputs": [],
   "source": [
    "instructions = \"\"\"\n",
    "You are a scheduler. You make college schedules. When you are told a list of classes and their days and hours, you find a combination of the possible timeslots\n",
    "avoiding any overlap. \n",
    "\"\"\""
   ]
  },
  {
   "cell_type": "code",
   "execution_count": 78,
   "metadata": {},
   "outputs": [],
   "source": [
    "prompt = f\"\"\"\n",
    "From this list of classes, pick a non-overlapping combination of timeslots. All classes need to be taken strictly once.\n",
    "You will respond with a possible schedule including {number_of_requirements} classes, no more, no less.\n",
    "The list is: {requirements_timetables}\n",
    "\"\"\""
   ]
  },
  {
   "cell_type": "code",
   "execution_count": 79,
   "metadata": {},
   "outputs": [],
   "source": [
    "client = OpenAI()\n",
    "\n",
    "completion = client.chat.completions.create(\n",
    "  model=\"gpt-3.5-turbo\",\n",
    "  messages=[\n",
    "    {\"role\": \"system\", \"content\": instructions},\n",
    "    {\"role\": \"user\", \"content\": prompt}\n",
    "  ]\n",
    ")"
   ]
  },
  {
   "cell_type": "code",
   "execution_count": 80,
   "metadata": {},
   "outputs": [
    {
     "data": {
      "text/markdown": [
       "Here is a possible schedule for the 6 classes without any overlap:\n",
       "\n",
       "1. Math 45: MW 7:30AM - 8:45AM\n",
       "2. Econ 100A: TR 10:30AM - 11:45AM\n",
       "3. Econ 141: MW 1:30PM - 2:45PM\n",
       "4. Econ 100B: TR 3:00PM - 4:15PM\n",
       "5. FIN 135: MW 3:00PM - 4:15PM\n",
       "6. POLS 100: TR 5:30PM - 6:45PM"
      ],
      "text/plain": [
       "<IPython.core.display.Markdown object>"
      ]
     },
     "metadata": {},
     "output_type": "display_data"
    }
   ],
   "source": [
    "response = completion.choices[0].message\n",
    "display(Markdown(completion.choices[0].message.content))"
   ]
  },
  {
   "cell_type": "code",
   "execution_count": 65,
   "metadata": {},
   "outputs": [
    {
     "data": {
      "text/plain": [
       "{'fin 135': [{'days': 'MW', 'startTime': '0300PM', 'endTime': '0415PM'},\n",
       "  {'days': 'MW', 'startTime': '0130PM', 'endTime': '0245PM'},\n",
       "  {'days': 'TR', 'startTime': '0130PM', 'endTime': '0245PM'}],\n",
       " 'econ 100A': [{'days': 'MW', 'startTime': '1200PM', 'endTime': '0115PM'},\n",
       "  {'days': 'TR', 'startTime': '1030AM', 'endTime': '1145AM'},\n",
       "  {'days': 'MW', 'startTime': '0300PM', 'endTime': '0415PM'}],\n",
       " 'math 45': [{'days': 'MW', 'startTime': '0730AM', 'endTime': '0845AM'},\n",
       "  {'days': 'MWF', 'startTime': '0900AM', 'endTime': '0950AM'},\n",
       "  {'days': 'MWF', 'startTime': '1000AM', 'endTime': '1050AM'},\n",
       "  {'days': 'MWF', 'startTime': '1100AM', 'endTime': '1150AM'},\n",
       "  {'days': 'MWF', 'startTime': '1200PM', 'endTime': '1250PM'},\n",
       "  {'days': 'TR', 'startTime': '1030AM', 'endTime': '1145AM'},\n",
       "  {'days': 'TR', 'startTime': '1200PM', 'endTime': '0115PM'},\n",
       "  {'days': 'TR', 'startTime': '0130PM', 'endTime': '0245PM'}],\n",
       " 'econ 100B': [{'days': 'MW', 'startTime': '0130PM', 'endTime': '0245PM'},\n",
       "  {'days': 'TR', 'startTime': '0300PM', 'endTime': '0415PM'}],\n",
       " 'pols 100': [{'days': 'MWF', 'startTime': '1100AM', 'endTime': '1150AM'},\n",
       "  {'days': 'MW', 'startTime': '1200PM', 'endTime': '0115PM'},\n",
       "  {'days': 'MW', 'startTime': '0300PM', 'endTime': '0415PM'},\n",
       "  {'days': 'TR', 'startTime': '0530PM', 'endTime': '0645PM'}]}"
      ]
     },
     "execution_count": 65,
     "metadata": {},
     "output_type": "execute_result"
    }
   ],
   "source": [
    "requirements_timetables"
   ]
  },
  {
   "cell_type": "code",
   "execution_count": null,
   "metadata": {},
   "outputs": [],
   "source": []
  }
 ],
 "metadata": {
  "kernelspec": {
   "display_name": "Python 3",
   "language": "python",
   "name": "python3"
  },
  "language_info": {
   "codemirror_mode": {
    "name": "ipython",
    "version": 3
   },
   "file_extension": ".py",
   "mimetype": "text/x-python",
   "name": "python",
   "nbconvert_exporter": "python",
   "pygments_lexer": "ipython3",
   "version": "3.11.5"
  },
  "orig_nbformat": 4
 },
 "nbformat": 4,
 "nbformat_minor": 2
}
