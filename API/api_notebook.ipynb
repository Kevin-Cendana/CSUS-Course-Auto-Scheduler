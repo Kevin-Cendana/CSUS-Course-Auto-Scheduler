{
 "cells": [
  {
   "cell_type": "code",
   "execution_count": 5,
   "metadata": {},
   "outputs": [],
   "source": [
    "from openai import OpenAI\n",
    "import os\n",
    "import json"
   ]
  },
  {
   "cell_type": "code",
   "execution_count": 2,
   "metadata": {},
   "outputs": [],
   "source": [
    "api_key = os.getenv('OPENAI_API_KEY')\n",
    "if not api_key:\n",
    "    raise ValueError('Your API is not detected in your environment vars. Double check.')"
   ]
  },
  {
   "cell_type": "code",
   "execution_count": 6,
   "metadata": {},
   "outputs": [],
   "source": [
    "all_schedules = {}\n",
    "with open('../scraper/schedules/fall-2024.json') as f:\n",
    "    all_schedules = json.load(f)"
   ]
  },
  {
   "cell_type": "code",
   "execution_count": 13,
   "metadata": {},
   "outputs": [
    {
     "data": {
      "text/plain": [
       "{'fin 135': [{'days': 'MW', 'startTime': '0300PM', 'endTime': '0415PM'},\n",
       "  {'days': 'MW', 'startTime': '0130PM', 'endTime': '0245PM'},\n",
       "  {'days': 'TR', 'startTime': '0130PM', 'endTime': '0245PM'}],\n",
       " 'econ 100A': [{'days': 'MW', 'startTime': '1200PM', 'endTime': '0115PM'},\n",
       "  {'days': 'TR', 'startTime': '1030AM', 'endTime': '1145AM'},\n",
       "  {'days': 'MW', 'startTime': '0300PM', 'endTime': '0415PM'}],\n",
       " 'math 45': [{'days': 'MW', 'startTime': '0730AM', 'endTime': '0845AM'},\n",
       "  {'days': 'MWF', 'startTime': '0900AM', 'endTime': '0950AM'},\n",
       "  {'days': 'MWF', 'startTime': '1000AM', 'endTime': '1050AM'},\n",
       "  {'days': 'MWF', 'startTime': '1100AM', 'endTime': '1150AM'},\n",
       "  {'days': 'MWF', 'startTime': '1200PM', 'endTime': '1250PM'},\n",
       "  {'days': 'TR', 'startTime': '1030AM', 'endTime': '1145AM'},\n",
       "  {'days': 'TR', 'startTime': '1200PM', 'endTime': '0115PM'},\n",
       "  {'days': 'TR', 'startTime': '0130PM', 'endTime': '0245PM'}]}"
      ]
     },
     "execution_count": 13,
     "metadata": {},
     "output_type": "execute_result"
    }
   ],
   "source": [
    "requirements = ['fin 135', 'econ 100A', 'math 45']\n",
    "requirements_timetables = {}\n",
    "\n",
    "for requirement in requirements:\n",
    "    major = requirement.split(' ')[0].upper()\n",
    "    \n",
    "    requirements_timetables[requirement] = all_schedules[major][requirement]"
   ]
  },
  {
   "cell_type": "code",
   "execution_count": 14,
   "metadata": {},
   "outputs": [],
   "source": [
    "instructions = \"\"\"\n",
    "You are a scheduler. You make college schedules. When you are told a list of classes and their days and hours, you find a combination of the possible timeslots\n",
    "avoiding any overlap.\n",
    "\"\"\""
   ]
  },
  {
   "cell_type": "code",
   "execution_count": 19,
   "metadata": {},
   "outputs": [],
   "source": [
    "prompt = f\"\"\"\n",
    "From this list of classes, pick a non-overlapping combination of timeslots. All classes need to be taken strictly once.\n",
    "The list is: {requirements_timetables}\n",
    "\"\"\""
   ]
  },
  {
   "cell_type": "code",
   "execution_count": 20,
   "metadata": {},
   "outputs": [
    {
     "name": "stdout",
     "output_type": "stream",
     "text": [
      "ChatCompletionMessage(content='Here is a non-overlapping combination of timeslots for the classes provided:\\n\\n1. **Math 45**: MWF 7:30AM - 8:45AM\\n2. **Econ 100A**: MW 12:00PM - 1:15PM\\n3. **Fin 135**: TR 1:30PM - 2:45PM\\n\\nThis schedule allows for all three classes to be taken without any overlap in timings.', role='assistant', function_call=None, tool_calls=None)\n"
     ]
    }
   ],
   "source": [
    "client = OpenAI()\n",
    "\n",
    "completion = client.chat.completions.create(\n",
    "  model=\"gpt-3.5-turbo\",\n",
    "  messages=[\n",
    "    {\"role\": \"system\", \"content\": instructions},\n",
    "    {\"role\": \"user\", \"content\": prompt}\n",
    "  ]\n",
    ")\n",
    "\n",
    "print(completion.choices[0].message)"
   ]
  },
  {
   "cell_type": "code",
   "execution_count": null,
   "metadata": {},
   "outputs": [],
   "source": []
  },
  {
   "cell_type": "code",
   "execution_count": null,
   "metadata": {},
   "outputs": [],
   "source": []
  }
 ],
 "metadata": {
  "kernelspec": {
   "display_name": "Python 3",
   "language": "python",
   "name": "python3"
  },
  "language_info": {
   "codemirror_mode": {
    "name": "ipython",
    "version": 3
   },
   "file_extension": ".py",
   "mimetype": "text/x-python",
   "name": "python",
   "nbconvert_exporter": "python",
   "pygments_lexer": "ipython3",
   "version": "3.11.5"
  },
  "orig_nbformat": 4
 },
 "nbformat": 4,
 "nbformat_minor": 2
}
